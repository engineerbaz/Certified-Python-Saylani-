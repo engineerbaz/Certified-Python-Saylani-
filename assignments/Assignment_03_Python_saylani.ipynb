{
  "nbformat": 4,
  "nbformat_minor": 0,
  "metadata": {
    "colab": {
      "name": "Assignment_03_Python_saylani.ipynb",
      "provenance": [],
      "include_colab_link": true
    },
    "kernelspec": {
      "name": "python3",
      "display_name": "Python 3"
    }
  },
  "cells": [
    {
      "cell_type": "markdown",
      "metadata": {
        "id": "view-in-github",
        "colab_type": "text"
      },
      "source": [
        "<a href=\"https://colab.research.google.com/github/engineerbaz/Certified-Python-Saylani-/blob/master/Assignment_03_Python_saylani.ipynb\" target=\"_parent\"><img src=\"https://colab.research.google.com/assets/colab-badge.svg\" alt=\"Open In Colab\"/></a>"
      ]
    },
    {
      "cell_type": "markdown",
      "metadata": {
        "id": "fkpCCC5i5W6l",
        "colab_type": "text"
      },
      "source": [
        "## **Assignment # 03  - Python - Saylani Mass IT Program**"
      ]
    },
    {
      "cell_type": "markdown",
      "metadata": {
        "id": "8SaZIR5SnQzq",
        "colab_type": "text"
      },
      "source": [
        "Question # 01 - **Make a calculator using Python with addition , subtraction , multiplication ,division and power.**"
      ]
    },
    {
      "cell_type": "code",
      "metadata": {
        "id": "IsjG0ehenTN5",
        "colab_type": "code",
        "colab": {
          "base_uri": "https://localhost:8080/",
          "height": 85
        },
        "outputId": "cfeebe8e-72fe-4677-ff86-168cd84396f6"
      },
      "source": [
        "def Add(a,b):\n",
        "    return a+b\n",
        "def sub(a,b):\n",
        "    return a-b\n",
        "def div(a,b):\n",
        "    return a/b\n",
        "def mul(a,b):\n",
        "    return a*b\n",
        "def pow(a,b):\n",
        "    return a**b\n",
        "a=int(input(\"Enter First Number:\"))\n",
        "b=int(input(\"Enter Second Number:\"))\n",
        "op=input(\"Enter operator\")\n",
        "if(op == \"+\"):\n",
        "    print(Add(a,b))\n",
        "elif(op == \"-\"):\n",
        "    print(sub(a,b))\n",
        "elif(op == \"*\"):\n",
        "    print(mul(a,b))\n",
        "elif(op == \"/\"):\n",
        "  print(div(a,b))\n",
        "elif(op == \"^\"):\n",
        "  print(pow(a,b))"
      ],
      "execution_count": 15,
      "outputs": [
        {
          "output_type": "stream",
          "text": [
            "Enter First Number:4\n",
            "Enter Second Number:3\n",
            "Enter operator^\n",
            "64\n"
          ],
          "name": "stdout"
        }
      ]
    },
    {
      "cell_type": "markdown",
      "metadata": {
        "id": "A-ZTFFkapPRZ",
        "colab_type": "text"
      },
      "source": [
        " Q # 02 - **Write a program to check if there is any numeric value in list using for loop**"
      ]
    },
    {
      "cell_type": "code",
      "metadata": {
        "id": "_pWtmoFNpRIR",
        "colab_type": "code",
        "colab": {
          "base_uri": "https://localhost:8080/",
          "height": 34
        },
        "outputId": "90e8bd06-e007-479f-e3b2-9f91bdb83809"
      },
      "source": [
        "\n",
        "def isNumber(s) : \n",
        "      \n",
        "    for i in range(len(s)) : \n",
        "        if s[i].isdigit() != True : \n",
        "            return False\n",
        "  \n",
        "    return True\n",
        "  \n",
        "# Driver code \n",
        "if __name__ == \"__main__\" : \n",
        "  \n",
        "    # Store the input in a str variable \n",
        "    str  = \"340\"\n",
        "  \n",
        "    if isNumber(str) : \n",
        "        print(\"Integer\") \n",
        "  \n",
        "    else : \n",
        "        print(\"String\") "
      ],
      "execution_count": 17,
      "outputs": [
        {
          "output_type": "stream",
          "text": [
            "Integer\n"
          ],
          "name": "stdout"
        }
      ]
    },
    {
      "cell_type": "markdown",
      "metadata": {
        "id": "iXtTjzCNpRXb",
        "colab_type": "text"
      },
      "source": [
        "Question # 03 - **Write a Python script to add a key to a dictionary**"
      ]
    },
    {
      "cell_type": "code",
      "metadata": {
        "id": "82OZdlcJpTsp",
        "colab_type": "code",
        "colab": {
          "base_uri": "https://localhost:8080/",
          "height": 51
        },
        "outputId": "4ea803f8-2e69-4994-fbfb-4e0829cebafd"
      },
      "source": [
        "di = {0:23, 1:12}\n",
        "print(di)\n",
        "di.update({2:13})\n",
        "print(di)"
      ],
      "execution_count": 21,
      "outputs": [
        {
          "output_type": "stream",
          "text": [
            "{0: 23, 1: 12}\n",
            "{0: 23, 1: 12, 2: 13}\n"
          ],
          "name": "stdout"
        }
      ]
    },
    {
      "cell_type": "markdown",
      "metadata": {
        "id": "TvMU7ylI0Fw1",
        "colab_type": "text"
      },
      "source": [
        "Q # 04 - **Write a Python program to sum all the numeric items in a dictionary**"
      ]
    },
    {
      "cell_type": "code",
      "metadata": {
        "id": "N6PSTfUU0GGM",
        "colab_type": "code",
        "colab": {
          "base_uri": "https://localhost:8080/",
          "height": 34
        },
        "outputId": "570a5f14-58e8-41a8-8fda-91c99de50949"
      },
      "source": [
        "def returnSum(myDict): \n",
        "      \n",
        "    sum = 0\n",
        "    for i in myDict: \n",
        "        sum = sum + myDict[i] \n",
        "      \n",
        "    return sum\n",
        "  \n",
        "# Driver Function \n",
        "dict = {'a': 32, 'b':310, 'c':26} \n",
        "print(\"Sum :\", returnSum(dict)) "
      ],
      "execution_count": 5,
      "outputs": [
        {
          "output_type": "stream",
          "text": [
            "Sum : 368\n"
          ],
          "name": "stdout"
        }
      ]
    },
    {
      "cell_type": "markdown",
      "metadata": {
        "id": "NWFpMsbp0Lgh",
        "colab_type": "text"
      },
      "source": [
        "Q # 05 - **Write a program to identify duplicate values from list**"
      ]
    },
    {
      "cell_type": "code",
      "metadata": {
        "id": "KhFtICSL2tNV",
        "colab_type": "code",
        "colab": {
          "base_uri": "https://localhost:8080/",
          "height": 34
        },
        "outputId": "9107e561-3fda-470c-acbe-231d9602610d"
      },
      "source": [
        "def Repeat(x): \n",
        "    _size = len(x) \n",
        "    repeated = [] \n",
        "    for i in range(_size): \n",
        "        k = i + 1\n",
        "        for j in range(k, _size): \n",
        "            if x[i] == x[j] and x[i] not in repeated: \n",
        "                repeated.append(x[i]) \n",
        "    return repeated \n",
        "  \n",
        "# Driver Code \n",
        "list1 = [34, 120, 24, 90, 22, 44, 24,  \n",
        "         44, -20, 16, 33, -40, -20] \n",
        "print (Repeat(list1)) \n",
        "      "
      ],
      "execution_count": 12,
      "outputs": [
        {
          "output_type": "stream",
          "text": [
            "[24, 44, -20]\n"
          ],
          "name": "stdout"
        }
      ]
    },
    {
      "cell_type": "markdown",
      "metadata": {
        "id": "AKTWbUnX2twh",
        "colab_type": "text"
      },
      "source": [
        "Q # 06 - **Write a Python script to check if a given key already exists in a dictionary**"
      ]
    },
    {
      "cell_type": "markdown",
      "metadata": {
        "id": "6wjU_8UC3Dc-",
        "colab_type": "text"
      },
      "source": [
        "We need to see if 250 is available"
      ]
    },
    {
      "cell_type": "code",
      "metadata": {
        "id": "aHMaJZYv2xGI",
        "colab_type": "code",
        "colab": {
          "base_uri": "https://localhost:8080/",
          "height": 51
        },
        "outputId": "05d2aa8c-dd96-460b-e457-769176bf8bf8"
      },
      "source": [
        "def checkKey(dict, key): \n",
        "      \n",
        "    if key in dict: \n",
        "        print(\"Present, \", end =\" \") \n",
        "        print(\"value =\", dict[key]) \n",
        "    else: \n",
        "        print(\"Not present\") \n",
        "  \n",
        "# Driver Code \n",
        "dict = {'a': 33, 'b':250, 'c':130} \n",
        "  \n",
        "key = 'b'\n",
        "checkKey(dict, key) \n",
        "  \n",
        "key = 'w'\n",
        "checkKey(dict, key) "
      ],
      "execution_count": 11,
      "outputs": [
        {
          "output_type": "stream",
          "text": [
            "Present,  value = 250\n",
            "Not present\n"
          ],
          "name": "stdout"
        }
      ]
    }
  ]
}
