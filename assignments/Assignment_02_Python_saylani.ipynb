{
  "nbformat": 4,
  "nbformat_minor": 0,
  "metadata": {
    "colab": {
      "name": "Assignment_02_Python_saylani.ipynb",
      "provenance": [],
      "collapsed_sections": [],
      "include_colab_link": true
    },
    "kernelspec": {
      "name": "python3",
      "display_name": "Python 3"
    }
  },
  "cells": [
    {
      "cell_type": "markdown",
      "metadata": {
        "id": "view-in-github",
        "colab_type": "text"
      },
      "source": [
        "<a href=\"https://colab.research.google.com/github/engineerbaz/Certified-Python-Saylani-/blob/master/assignments/Assignment_02_Python_saylani.ipynb\" target=\"_parent\"><img src=\"https://colab.research.google.com/assets/colab-badge.svg\" alt=\"Open In Colab\"/></a>"
      ]
    },
    {
      "cell_type": "markdown",
      "metadata": {
        "id": "Op7GUzkLtLhJ",
        "colab_type": "text"
      },
      "source": [
        "Question # 01"
      ]
    },
    {
      "cell_type": "code",
      "metadata": {
        "id": "mAO7gpWrhxSm",
        "colab_type": "code",
        "colab": {
          "base_uri": "https://localhost:8080/",
          "height": 153
        },
        "outputId": "7d2d022b-57ea-49f7-e9bc-8280b8fd7075"
      },
      "source": [
        "u = int(input (\"Enter Urdu marks \"))\n",
        "e = int(input (\"Enter English marks \"))\n",
        "m = int(input (\"Enter Math marks \"))\n",
        "s = int(input (\"Enter Science marks \"))\n",
        "c = int(input (\"Enter Computer marks \"))\n",
        "marks = int(u + e + m + s + c)\n",
        "# marks = int(marks)\n",
        "print (\"Total Marks of all Subjects\" , marks)\n",
        "per = marks/5\n",
        "tot = int(per)\n",
        "print (\"Percentage of all Subjects :\" , tot, \"%\")\n",
        "if tot >= 80:\n",
        "  print (\"Grade is A-1\")\n",
        "elif tot >= 71 and tot < 80:\n",
        "  print (\"Grade is A\")\n",
        "elif tot >= 61 and tot < 70:\n",
        "  print (\"Grade is B\")\n",
        "elif tot >= 51 and tot < 60:\n",
        "  print (\"Grade is C\")\n",
        "else:\n",
        "  print (\"Grade is FAIL\")\n"
      ],
      "execution_count": 42,
      "outputs": [
        {
          "output_type": "stream",
          "text": [
            "Enter Urdu marks 68\n",
            "Enter English marks 66\n",
            "Enter Math marks 55\n",
            "Enter Science marks 66\n",
            "Enter Computer marks 58\n",
            "Total Marks of all Subjects 313\n",
            "Percentage of all Subjects : 62 %\n",
            "Grade is B\n"
          ],
          "name": "stdout"
        }
      ]
    },
    {
      "cell_type": "markdown",
      "metadata": {
        "id": "SHoLKI_btRg_",
        "colab_type": "text"
      },
      "source": [
        "Question # 02 "
      ]
    },
    {
      "cell_type": "code",
      "metadata": {
        "id": "qgWDME4Erogx",
        "colab_type": "code",
        "colab": {
          "base_uri": "https://localhost:8080/",
          "height": 51
        },
        "outputId": "454bc12a-c37c-4773-ea8c-096e986cc371"
      },
      "source": [
        "c = int(input (\"Enter Number \"))\n",
        "c = int(c)\n",
        "\n",
        "if c%2==0:\n",
        "  print (\"Number is EVEN\")\n",
        "else:\n",
        "  print (\"Number is ODD\")\n"
      ],
      "execution_count": 44,
      "outputs": [
        {
          "output_type": "stream",
          "text": [
            "Enter Number 4\n",
            "Number is EVEN\n"
          ],
          "name": "stdout"
        }
      ]
    },
    {
      "cell_type": "markdown",
      "metadata": {
        "id": "7HHUkxjNuT4O",
        "colab_type": "text"
      },
      "source": [
        "Question # 03"
      ]
    },
    {
      "cell_type": "code",
      "metadata": {
        "id": "A3SLRtkCuXHM",
        "colab_type": "code",
        "colab": {
          "base_uri": "https://localhost:8080/",
          "height": 51
        },
        "outputId": "9f6dd309-d26b-4a1e-f878-993e77513fd0"
      },
      "source": [
        "test_list = [ 4, 24, 3, 1, 8 ] \n",
        " \n",
        "print (\"The list is : \" + str(test_list)) \n",
        "counter = 0\n",
        "for i in test_list:    \n",
        "    counter = counter + 1\n",
        "\n",
        "print (\"Length of list using naive method is : \" + str(counter)) "
      ],
      "execution_count": 46,
      "outputs": [
        {
          "output_type": "stream",
          "text": [
            "The list is : [4, 24, 3, 1, 8]\n",
            "Length of list using naive method is : 5\n"
          ],
          "name": "stdout"
        }
      ]
    },
    {
      "cell_type": "markdown",
      "metadata": {
        "id": "-7PLzPblGgIY",
        "colab_type": "text"
      },
      "source": [
        "Question # 04 "
      ]
    },
    {
      "cell_type": "code",
      "metadata": {
        "id": "eTjbiLs_GkNc",
        "colab_type": "code",
        "colab": {
          "base_uri": "https://localhost:8080/",
          "height": 34
        },
        "outputId": "e7e32075-f298-4760-de04-759192748996"
      },
      "source": [
        "test_list = [ 4, 2, 5, 9, 8 ] \n",
        "c = 0\n",
        "for ele in range(0, len(test_list)): \n",
        "    c = c + test_list[ele] \n",
        "  \n",
        "# printing total value \n",
        "print(\"Sum of all elements in given list: \", c) \n"
      ],
      "execution_count": 61,
      "outputs": [
        {
          "output_type": "stream",
          "text": [
            "Sum of all elements in given list:  28\n"
          ],
          "name": "stdout"
        }
      ]
    },
    {
      "cell_type": "markdown",
      "metadata": {
        "id": "EeacaUpsGhy_",
        "colab_type": "text"
      },
      "source": [
        "Question # 05 "
      ]
    },
    {
      "cell_type": "code",
      "metadata": {
        "id": "lxktiiSmL4TI",
        "colab_type": "code",
        "colab": {}
      },
      "source": [
        "test_list = [ 4, 2, 5, 9, 8 ] \n",
        "max = test_list[ 0 ]\n",
        " for a in test_list:\n",
        "   if a > max:\n",
        "     max = a\n",
        " return max\n",
        "print(\"Max number in list is \" , max)"
      ],
      "execution_count": 0,
      "outputs": []
    },
    {
      "cell_type": "markdown",
      "metadata": {
        "id": "oqhmV7VSMmJC",
        "colab_type": "text"
      },
      "source": [
        "Question # 06"
      ]
    },
    {
      "cell_type": "code",
      "metadata": {
        "id": "pJoa7_CBMnNe",
        "colab_type": "code",
        "colab": {
          "base_uri": "https://localhost:8080/",
          "height": 85
        },
        "outputId": "6c4f11a8-9255-43d7-c62c-fd90e4bcef4a"
      },
      "source": [
        "a = [1, 1, 2, 3, 5, 8, 13, 21, 34, 55, 89]\n",
        "\n",
        "for i in a:\n",
        "\n",
        "    if i < 5:\n",
        "\n",
        "        print(i)"
      ],
      "execution_count": 67,
      "outputs": [
        {
          "output_type": "stream",
          "text": [
            "1\n",
            "1\n",
            "2\n",
            "3\n"
          ],
          "name": "stdout"
        }
      ]
    },
    {
      "cell_type": "code",
      "metadata": {
        "id": "ys47Sts3OToI",
        "colab_type": "code",
        "colab": {}
      },
      "source": [
        ""
      ],
      "execution_count": 0,
      "outputs": []
    }
  ]
}